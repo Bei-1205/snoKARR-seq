{
 "cells": [
  {
   "cell_type": "code",
   "execution_count": null,
   "id": "ba85153c-9d71-4a8c-943c-0dd1c73a0a7f",
   "metadata": {},
   "outputs": [],
   "source": [
    "# This notebook is used to analyze potential snoRNA-rRNA interactions\n",
    "# Steps:\n",
    "# build full legngth rDNA index (seq from https://www.ncbi.nlm.nih.gov/nuccore/KY962518)\n",
    "# map to full length rRNA index and get chimeric reads containing snoRNA."
   ]
  },
  {
   "cell_type": "code",
   "execution_count": 5,
   "id": "8bb5bcf3-4e8f-42c5-88fb-7d39b8e5c5f2",
   "metadata": {},
   "outputs": [],
   "source": [
    "import os\n",
    "from glob import glob\n",
    "from tqdm.auto import tqdm, trange\n",
    "import pybedtools\n",
    "import pandas as pd\n",
    "import numpy as np\n",
    "import coolbox\n",
    "from coolbox.api import *\n",
    "import subprocess\n",
    "import seaborn as sns\n",
    "import matplotlib.pyplot as plt\n",
    "from Bio import Entrez, SeqIO\n",
    "plt.rcParams['figure.dpi'] = 100\n",
    "fastp = '/tools/bin/fastp'\n",
    "STAR = '/tools/bin/STAR'\n",
    "samtools = '/tools/bin/samtools'\n",
    "bedtools = '/tools/bin/bedtools'\n",
    "bedGraphToBigWig = '/tools/bin/bedGraphToBigWig'"
   ]
  },
  {
   "cell_type": "code",
   "execution_count": null,
   "id": "855f019d-6110-4df5-9d9c-ca4e3d2c6f09",
   "metadata": {},
   "outputs": [],
   "source": [
    "def get_snoRNA_rDNA_paired_txt(bed_output):\n",
    "    '''\n",
    "    process chimeric bed files, convert it to a dataframe containing pair information\n",
    "    '''\n",
    "    df = pybedtools.BedTool(f'{bed_output}').to_dataframe()\n",
    "    df = df.sort_values(by = ['name', 'chrom'])\n",
    "    df = df[df.duplicated('name', keep=False)]\n",
    "    df_2 = pd.concat([df[::2].reset_index(drop = True), df[1::2].reset_index(drop = True)], axis=1)\n",
    "    df_2.columns = ['chr1', 'start1', 'end1', 'qname1', 'score1', 'strand1', \n",
    "                    'chr2', 'start2', 'end2', 'qname2', 'score2', 'strand2']\n",
    "    dummy = np.sum(df_2['qname1']!=df_2['qname2'])\n",
    "    print(f'sanity check:{dummy}')\n",
    "\n",
    "    df_2 = df_2[(df_2['strand2']=='-')]\n",
    "    df_2 = df_2[(df_2['chr1']!='KY962518.1')|(df_2['chr2']!='KY962518.1')]\n",
    "    df_2 = df_2[~((df_2['chr1']!='KY962518.1')&(df_2['chr2']!='KY962518.1'))]\n",
    "    df_2 = df_2[df_2['end2']-df_2['start2']<=300]\n",
    "    df_2 = df_2[df_2['end1']-df_2['start1']<=300]\n",
    "    return df_2\n",
    "\n",
    "def get_bw_files(bedfile_df, output_path, name, sizes='rDNA.sizes', scale = 1):\n",
    "    '''\n",
    "    input path to bed file df, the output path, \n",
    "    names of the individual run (name), a sizes file, and a scale factor to output bw files\n",
    "    '''\n",
    "    df = bedfile_df.reset_index(drop=True)\n",
    "    pair_bed6 = df[['chr1', 'start1', 'end1', 'qname1', 'chr2', 'strand1']]\n",
    "    pair_bed6 = pybedtools.BedTool.from_dataframe(pair_bed6)\n",
    "    pair_bed6.saveas(f'{output_path}/chim_{name}.bed')\n",
    "    cmd0 = f'cat {output_path}/chim_{name}.bed\\\n",
    "    | sort -V -k1,1 -k2,2n -k3,3n > {output_path}/{name}_sorted.bed'\n",
    "    os.system(cmd0)\n",
    "    cmd1 = f'{bedtools} genomecov -bg -scale 1  \\\n",
    "    -i {output_path}/{name}_sorted.bed -g {sizes} \\\n",
    "    | LC_COLLATE=C sort -k1,1 -k2,2n > {output_path}/{name}_sorted.bedgraph'\n",
    "    os.system(cmd1)\n",
    "\n",
    "    cmd2 = f'{bedGraphToBigWig} {output_path}/{name}_sorted.bedgraph {sizes} \\\n",
    "    {output_path}/{name}_sorted.bw'\n",
    "    os.system(cmd2)\n",
    "\n",
    "def get_bam_len(path):\n",
    "    '''\n",
    "    count the length of a bam file given the path\n",
    "    '''\n",
    "    #cmd = f\"{samtools} view -@ 40 {path} | wc -l\"\n",
    "    # using the Log.out.final file\n",
    "    cmd = f\"cat {path} | head -6 | tail -1 | awk \\'{{print $NF}}\\'\"\n",
    "    p = subprocess.Popen(cmd, stdin=subprocess.PIPE, stdout=subprocess.PIPE, shell=True)\n",
    "    bam_len = int(p.communicate()[0])\n",
    "    return bam_len"
   ]
  },
  {
   "cell_type": "code",
   "execution_count": null,
   "id": "7c9a7905-6ae4-43b9-85b1-2b964b5ad892",
   "metadata": {
    "tags": []
   },
   "outputs": [],
   "source": [
    "# build star index for human rDNA\n",
    "# using sequence from https://www.ncbi.nlm.nih.gov/nuccore/KY962518\n",
    "os.system('/tools/bin/STAR --runMode genomeGenerate \\\n",
    "--runThreadN 40 \\\n",
    "--genomeDir /home/beiliu/Database/reference/human_rDNA/human_rDNA_STAR_index \\\n",
    "--genomeFastaFiles /home/beiliu/Database/reference/human_rDNA/human_rDNA.fa \\\n",
    "--genomeSAindexNbases 4')"
   ]
  },
  {
   "cell_type": "code",
   "execution_count": null,
   "id": "b5adef3d-6a23-44c7-bcaa-a0310408d6a9",
   "metadata": {
    "tags": []
   },
   "outputs": [],
   "source": [
    "# build index for 190 snoRNA + rDNA\n",
    "os.system('/tools/bin/STAR --runMode genomeGenerate \\\n",
    "--runThreadN 40 \\\n",
    "--genomeDir /home/beiliu/Database/reference/human_rDNA_snoRNA/human_rDNA_190snoRNA_STAR_index \\\n",
    "--genomeFastaFiles /home/beiliu/Database/reference/human_rDNA_snoRNA/rDNA_190_snoRNA_rRNA.fa \\\n",
    "--genomeSAindexNbases 4')"
   ]
  },
  {
   "cell_type": "code",
   "execution_count": null,
   "id": "abbde8b5-a890-42f7-9661-d0146ffdde50",
   "metadata": {},
   "outputs": [],
   "source": [
    "# process raw data, using HepG2 data as an example\n",
    "# fastp to remove primers and merge\n",
    "sample_names = ['HepG2_totalRNA_input1', 'HepG2_totalRNA_input1' \n",
    "               'HepG2_totalRNA_IP1', 'HepG2_totalRNA_IP2']\n",
    "\n",
    "# 'HepG2_totalRNA_input1', 'HepG2_totalRNA_input1'\n",
    "gz_dir1 = 'HepG2_Input/'\n",
    "gz_files1 = sorted(glob(os.path.join(gz_dir1, '*')))\n",
    "\n",
    "# 'HepG2_totalRNA_IP1', 'HepG2_totalRNA_IP2'\n",
    "gz_dir2 = 'HepG2_IP/'\n",
    "gz_files2 = sorted(glob(os.path.join(gz_dir2, '*')))\n",
    "\n",
    "gz_files_total = gz_files1 + gz_files2"
   ]
  },
  {
   "cell_type": "markdown",
   "id": "bd64186d-e51a-4363-830e-a1e013ea8eb4",
   "metadata": {},
   "source": [
    "# process raw reads using fastp"
   ]
  },
  {
   "cell_type": "code",
   "execution_count": null,
   "id": "20ea7127-69e0-401d-a1e9-289843034815",
   "metadata": {
    "tags": []
   },
   "outputs": [],
   "source": [
    "input_prefix = '/home/beiliu/data/002_snoRNA_rRNA_promoter_interaction/HepG2_data'\n",
    "trimed_dir = f'{input_prefix}/fastp_processed'\n",
    "os.system(f'mkdir {trimed_dir}')\n",
    "gz_file_lst = gz_files_total\n",
    "gz_file_lst = gz_files_total_HEK293\n",
    "gz_file_lst = gz_files_total_cancer\n",
    "for i in trange(int(len(gz_file_lst)/2)):\n",
    "    # merge and trim adapter\n",
    "    input1 = gz_file_lst[i*2]\n",
    "    input2 = gz_file_lst[i*2+1]\n",
    "    print(f'inputs are\\n 1.{input1}\\n 2.{input2}\\n')\n",
    "    \n",
    "    os.system(f'{fastp} --in1 {input1} \\\n",
    "    --in2 {input2} \\\n",
    "    -m \\\n",
    "    --out1 {trimed_dir}/unmerged_out1.fasta.gz \\\n",
    "    --out2 {trimed_dir}/unmerged_out2.fasta.gz \\\n",
    "    --merged_out {trimed_dir}/merged{i+1}.fasta.gz \\\n",
    "    -w 16 -D \\\n",
    "    -h {trimed_dir}/merge_and_trim_adapter_{i+1}.html \\\n",
    "    -j {trimed_dir}/merge_and_trim_adapter_{i+1}.json &')\n",
    "    \n",
    "    #dedupe and trim XXX\n",
    "    os.system(f'nohup {fastp} -i {trimed_dir}/merged{i+1}.fasta.gz \\\n",
    "    -D -t 3 -w 16 \\\n",
    "    -o {trimed_dir}/merged{i+1}_dedupe.fasta.gz \\\n",
    "    -h {trimed_dir}/dedupe_and_trim_xxx_{i+1}.html \\\n",
    "    -j {trimed_dir}/dedupe_and_trim_xxx_{i+1}.json')\n",
    "    \n",
    "    os.system(f'rm {trimed_dir}/merged{i+1}.fasta.gz')\n",
    "    \n",
    "os.system(f'rm {trimed_dir}/unmerged*')"
   ]
  },
  {
   "cell_type": "code",
   "execution_count": 9,
   "id": "47615a23-8012-4be5-9ac7-bcbe56816b2b",
   "metadata": {},
   "outputs": [],
   "source": [
    "# prepare data for HepG2 and HEK293T \n",
    "input_prefix_HepG2 = 'HepG2_data'\n",
    "output_foldername_HepG2 = f'{input_prefix_HepG2}/star_dedupe_alignment_rDNA'\n",
    "sample_names_HepG2 = ['HepG2_totalRNA_input1', 'HepG2_totalRNA_input1',\n",
    "               'HepG2_totalRNA_IP1', 'HepG2_totalRNA_IP2']\n",
    "HepG2_series = [input_prefix_HepG2, output_foldername_HepG2, sample_names_HepG2]\n",
    "\n",
    "input_prefix_HEK293 = 'HEK293_data'\n",
    "output_foldername_HEK293 = f'{input_prefix_HEK293}/star_dedupe_alignment_rDNA'\n",
    "sample_names_HEK293 = ['HEK293_totalRNA_input1', 'HEK293_totalRNA_input1',\n",
    "               'HEK293_totalRNA_IP1', 'HEK293_totalRNA_IP2']\n",
    "HEK293_series = [input_prefix_HEK293, output_foldername_HEK293, sample_names_HEK293]"
   ]
  },
  {
   "cell_type": "markdown",
   "id": "df5f3c97-8269-4050-8bda-68351fe76fef",
   "metadata": {},
   "source": [
    "# map to rDNA + snoRNA"
   ]
  },
  {
   "cell_type": "code",
   "execution_count": null,
   "id": "b2e30344-19d9-43cd-a447-a510b7b6c822",
   "metadata": {
    "scrolled": true,
    "tags": []
   },
   "outputs": [],
   "source": [
    "# map rDNA + snoRNA, using HepG2 data here as an example\n",
    "gen_dir = 'human_rDNA_190snoRNA_STAR_index'\n",
    "sample_names = HepG2_series[-1]\n",
    "input_prefix = HepG2_series[0]\n",
    "\n",
    "for i, name_prefix in tqdm(enumerate(sample_names), total = len(sample_names)):\n",
    "    input1 = f'{trimed_dir}/merged{i+1}_dedupe.fasta.gz'\n",
    "    print(f'STAR alignment input is {input1}')\n",
    "    os.system(f'nohup {STAR} --runThreadN 10 \\\n",
    "    --runMode alignReads \\\n",
    "    --genomeDir {gen_dir} \\\n",
    "    --readFilesIn {input1}  \\\n",
    "    --outFileNamePrefix {input_prefix}/star_dedupe_alignment_rDNA/{i+1:03d}_{name_prefix} \\\n",
    "    --readFilesCommand zcat \\\n",
    "    --outFilterMultimapNmax 10 \\\n",
    "    --outFilterScoreMinOverLread 0 \\\n",
    "    --outFilterMatchNminOverLread 0 \\\n",
    "    --outSAMattributes All \\\n",
    "    --outSAMtype BAM SortedByCoordinate \\\n",
    "    --alignIntronMin 1 \\\n",
    "    --scoreGap 0 \\\n",
    "    --scoreGapNoncan 0 \\\n",
    "    --scoreGapGCAG 0 \\\n",
    "    --scoreGapATAC 0 \\\n",
    "    --scoreGenomicLengthLog2scale -1 \\\n",
    "    --chimFilter None \\\n",
    "    --chimOutType WithinBAM HardClip \\\n",
    "    --chimSegmentMin 5 \\\n",
    "    --chimJunctionOverhangMin 5 \\\n",
    "    --chimScoreJunctionNonGTAG 0 \\\n",
    "    --chimScoreDropMax 80 \\\n",
    "    --chimNonchimScoreDropMin 20 \\\n",
    "    --peOverlapNbasesMin 12 \\\n",
    "    --peOverlapMMp 0.05 \\\n",
    "    --limitOutSJcollapsed 10000000 \\\n",
    "    --limitBAMsortRAM 2007370404 &')"
   ]
  },
  {
   "cell_type": "code",
   "execution_count": null,
   "id": "0f6cc437-4afb-4f6a-9d70-aa62f390b763",
   "metadata": {
    "scrolled": true,
    "tags": []
   },
   "outputs": [],
   "source": [
    "# process bam file to get chimeric reads\n",
    "output_all_HepG2 = []\n",
    "output_all_HEK = []\n",
    "output_all = [output_all_HepG2, output_all_HEK]\n",
    "\n",
    "for j, (m, n, k) in enumerate([HepG2_series]):\n",
    "    # if j!=0:\n",
    "    #     continue\n",
    "    # print(i, m, n, k)\n",
    "    for i, name_prefix in tqdm(enumerate(k), total = len(k)):\n",
    "        # get all chimeric reads and sort by qname\n",
    "        bamfile = f'{n}/{i+1:03d}_{name_prefix}Aligned.sortedByCoord.out.bam'\n",
    "        print(f'input bamfile is {bamfile}...')\n",
    "        # 1. extract all chimeric reads\n",
    "        cmd1 = f'nohup {samtools} view -@ 40 -Shb -e \\\"[SA]\\\" \\\n",
    "        {bamfile} | {samtools} sort -@ 40 -n -o {n}/{i+1:03d}_chimall.bam - &'\n",
    "        os.system(cmd1)\n",
    "\n",
    "        # 2. chimall bam to bed\n",
    "        input_bam = f'{n}/{i+1:03d}_chimall.bam'\n",
    "        print(f'chimall to bed {input_bam}...')\n",
    "        bed_output = f'{n}/{i+1:03d}_chimall.bed'\n",
    "        os.system(f'nohup {bedtools} bamtobed -i {input_bam} > {bed_output} &')\n",
    "\n",
    "        # 3. get snoRNA rRNA bed output\n",
    "        output_all[j].append(get_snoRNA_rDNA_paired_txt(bed_output))"
   ]
  },
  {
   "cell_type": "code",
   "execution_count": null,
   "id": "245b1151-de6b-44a7-a110-515b2feeeb6b",
   "metadata": {
    "scrolled": true,
    "tags": []
   },
   "outputs": [],
   "source": [
    "# generate bw files\n",
    "os.system('mkdir bw_output')\n",
    "for snoRNA in top_50_snoRNA_names.values:\n",
    "    print(snoRNA)\n",
    "    # now run bw files for all chim bed\n",
    "    for j, (m, n, k) in enumerate([HepG2_series, HEK293_series]):\n",
    "        # print(i, m, n, k)\n",
    "        for i, name_prefix in tqdm(enumerate(k), total = len(k)):\n",
    "            bamfile = f'{n}/{i+1:03d}_{name_prefix}Log.final.out'\n",
    "            print(bamfile)\n",
    "            scale = 1e6/get_bam_len(bamfile)\n",
    "    \n",
    "            bedfile_df = output_all[j][i]\n",
    "            # snoRNA = 'SNORA6'\n",
    "            bedfile_df = bedfile_df[bedfile_df['chr2']==snoRNA]\n",
    "            bedfile_df = bedfile_df.drop_duplicates(['start1', 'end1', 'start2', 'end2'])\n",
    "            print(f'length of selected df is {len(bedfile_df)}')\n",
    "            get_bw_files(bedfile_df, 'bw_output', k[i]+f'_{snoRNA}', scale = scale)"
   ]
  },
  {
   "cell_type": "code",
   "execution_count": 28,
   "id": "654b7dd6-95ee-42ce-9820-3c29af4c9f58",
   "metadata": {},
   "outputs": [
    {
     "data": {
      "image/png": "[encoded data removed]",
      "text/plain": [
       "<Figure size 314.961x409.449 with 33 Axes>"
      ]
     },
     "execution_count": 28,
     "metadata": {},
     "output_type": "execute_result"
    }
   ],
   "source": [
    "# now use coolbox to plot the coverage of the intron regions of snoRNA containing genes\n",
    "snoRNA = 'SNORA57'\n",
    "mod_site = 4659\n",
    "bw_files_HepG2 = [f'bw_output/{name}_{snoRNA}_sorted.bw' for name in HepG2_series[-1]]\n",
    "bw_files_HEK293 = [f'bw_output/{name}_{snoRNA}_sorted.bw' for name in HEK293_series[-1]]\n",
    "tracknames_HepG2 = ['HepG2 - ASO-1', 'HepG2 - ASO-2', 'HepG2 + ASO-1', 'HepG2 + ASO-2']\n",
    "tracknames_HEK293 = ['HEK293T - ASO-1', 'HEK293T - ASO-2', 'HEK293T + ASO-1', 'HEK293T + ASO-2']\n",
    "\n",
    "# remove the old index file\n",
    "os.system('rm /home/beiliu/Database/reference/human_rDNA_snoRNA/rDNA.bed.bgz.tbi')\n",
    "frame1 = BigWig(bw_files_HepG2[0]) + Color(\"grey\") + Title(f'{tracknames_HepG2[0]}') + \\\n",
    "BigWig(bw_files_HepG2[1]) + Color(\"grey\") + Title(f'{tracknames_HepG2[1]}') + \\\n",
    "BigWig(bw_files_HepG2[2]) + Color(\"red\") + Title(f'{tracknames_HepG2[2]}') + \\\n",
    "BigWig(bw_files_HepG2[3]) + Color(\"red\") + Title(f'{tracknames_HepG2[3]}') + \\\n",
    "BigWig(bw_files_HEK293[0]) + Color(\"grey\") + Title(f'{tracknames_HEK293[0]}') + \\\n",
    "BigWig(bw_files_HEK293[1]) + Color(\"grey\") + Title(f'{tracknames_HEK293[1]}') + \\\n",
    "BigWig(bw_files_HEK293[2]) + Color(\"blue\") + Title(f'{tracknames_HEK293[2]}') + \\\n",
    "BigWig(bw_files_HEK293[3]) + Color(\"blue\") + Title(f'{tracknames_HEK293[3]}')\n",
    "frame1*=TrackHeight(1)\n",
    "\n",
    "coord = f'KY962518.1:.{mod_site-500}-{mod_site+500}' # SNORA57 rRNA binding site\n",
    "frame1.plot(coord)\n",
    "\n",
    "#get the maximun y value, and generate y_lim\n",
    "data_dict = frame1.fetch_plot_data()\n",
    "new_dict = {key:val for key, val in data_dict.items() if 'Spacer' not in key}\n",
    "max_y = np.max([np.max(data_dict[list(new_dict.keys())[i]]) for i in range(8)])\n",
    "y_lim = np.ceil(max_y)\n",
    "frame1*=MaxValue(int(max_y))\n",
    "frame1*=MinValue(0)\n",
    "# highlight the modification site\n",
    "frame1*=Vlines(('KY962518.1', mod_site), line_width = 0.5)\n",
    "\n",
    "frame1 += Spacer(0.1) + BED(f\"/home/beiliu/Database/reference/human_rDNA_snoRNA/rDNA.bed\", display='stacked', interval_height=1, fontsize=10, color = 'k') + TrackHeight(0.3) + XAxis(fontsize=10)\n",
    "frame1.properties['width'] = 8\n",
    "frame1.plot(coord)"
   ]
  }
 ],
 "metadata": {
  "kernelspec": {
   "display_name": "Python 3 (ipykernel)",
   "language": "python",
   "name": "python3"
  },
  "language_info": {
   "codemirror_mode": {
    "name": "ipython",
    "version": 3
   },
   "file_extension": ".py",
   "mimetype": "text/x-python",
   "name": "python",
   "nbconvert_exporter": "python",
   "pygments_lexer": "ipython3",
   "version": "3.10.12"
  }
 },
 "nbformat": 4,
 "nbformat_minor": 5
}
